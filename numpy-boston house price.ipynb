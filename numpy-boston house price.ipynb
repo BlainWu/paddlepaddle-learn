{
 "cells": [
  {
   "cell_type": "code",
   "execution_count": 3,
   "metadata": {},
   "outputs": [],
   "source": [
    "import numpy as np\n",
    "import json"
   ]
  },
  {
   "cell_type": "code",
   "execution_count": 26,
   "metadata": {},
   "outputs": [
    {
     "name": "stdout",
     "output_type": "stream",
     "text": [
      "[6.320e-03 1.800e+01 2.310e+00 ... 3.969e+02 7.880e+00 1.190e+01]\n",
      "(7084,)\n"
     ]
    }
   ],
   "source": [
    "# 读取原始数据\n",
    "datafile = './housing.data'\n",
    "data = np.fromfile(datafile,sep = ' ')\n",
    "print(data)\n",
    "print(data.shape)"
   ]
  },
  {
   "cell_type": "code",
   "execution_count": 27,
   "metadata": {},
   "outputs": [
    {
     "name": "stdout",
     "output_type": "stream",
     "text": [
      "(7084,)\n",
      "(506, 14)\n"
     ]
    }
   ],
   "source": [
    "#数据形状转换,因为单个数据有14个数据，转成N x 14\n",
    "feature_names = [ 'CRIM', 'ZN', 'INDUS', 'CHAS', 'NOX', 'RM', 'AGE',\n",
    "                 'DIS', 'RAD', 'TAX', 'PTRATIO', 'B', 'LSTAT', 'MEDV']\n",
    "feature_num = len(feature_names)\n",
    "\n",
    "print(data.shape)#转换前\n",
    "data = data.reshape([data.shape[0]//feature_num,feature_num])\n",
    "print(data.shape)#转换后"
   ]
  },
  {
   "cell_type": "code",
   "execution_count": 29,
   "metadata": {},
   "outputs": [
    {
     "name": "stdout",
     "output_type": "stream",
     "text": [
      "(404, 14)\n"
     ]
    }
   ],
   "source": [
    "#数据分为训练集和测试集\n",
    "ratio = 0.8\n",
    "offset = int(data.shape[0]*ratio)\n",
    "training_data = data[:offset]\n",
    "print(training_data.shape)"
   ]
  },
  {
   "cell_type": "code",
   "execution_count": 35,
   "metadata": {},
   "outputs": [],
   "source": [
    "#归一化处理\n",
    "maximums,minimums,avgs = training_data.max(axis = 0),\\\n",
    "                        training_data.min(axis = 1),\\\n",
    "                        training_data.sum(axis=0)/training_data.shape[0]\n",
    "for i in range(feature_num):\n",
    "    data[:,i] = (data[:,i]-avgs[i])/(maximums[i] - minimums[i])"
   ]
  },
  {
   "cell_type": "code",
   "execution_count": 37,
   "metadata": {},
   "outputs": [],
   "source": [
    "# 封装成函数\n",
    "def load_data():\n",
    "    # 读取原始数据\n",
    "    datafile = './housing.data'\n",
    "    data = np.fromfile(datafile,sep = ' ')\n",
    "    \n",
    "    #数据形状转换,因为单个数据有14个数据，转成N x 14\n",
    "    feature_names = [ 'CRIM', 'ZN', 'INDUS', 'CHAS', 'NOX', 'RM', 'AGE',\n",
    "                     'DIS', 'RAD', 'TAX', 'PTRATIO', 'B', 'LSTAT', 'MEDV']\n",
    "    feature_num = len(feature_names)\n",
    "    data = data.reshape([data.shape[0]//feature_num,feature_num])\n",
    "    #数据分为训练集和测试集\n",
    "    ratio = 0.8\n",
    "    offset = int(data.shape[0]*ratio)\n",
    "    training_data = data[:offset]\n",
    "    testing_data = data[offset:]\n",
    "    #归一化处理\n",
    "    maximums,minimums,avgs = training_data.max(axis = 0),\\\n",
    "                            training_data.min(axis = 1),\\\n",
    "                            training_data.sum(axis=0)/training_data.shape[0]\n",
    "    for i in range(feature_num):\n",
    "        data[:,i] = (data[:,i]-avgs[i])/(maximums[i] - minimums[i])\n",
    "    return training_data,testing_data"
   ]
  },
  {
   "cell_type": "code",
   "execution_count": 40,
   "metadata": {},
   "outputs": [
    {
     "name": "stdout",
     "output_type": "stream",
     "text": [
      "[-0.02146169  0.03767327 -0.2804026  -0.08663366  0.00719641  0.02755024\n",
      "  0.00772525 -0.00694459 -0.2412335  -0.08545179 -0.12391989  0.04265115\n",
      " -0.1678944 ]\n",
      "[-0.00351485]\n"
     ]
    }
   ],
   "source": [
    "# 获取数据\n",
    "training_data, test_data = load_data()\n",
    "x = training_data[:, :-1]#前面参数\n",
    "y = training_data[:, -1:]#房价\n",
    "# 查看数据\n",
    "print(x[0])\n",
    "print(y[0])"
   ]
  },
  {
   "cell_type": "code",
   "execution_count": 41,
   "metadata": {},
   "outputs": [
    {
     "name": "stdout",
     "output_type": "stream",
     "text": [
      "[-0.0320762]\n",
      "[-0.2320762]\n"
     ]
    }
   ],
   "source": [
    "#模型设计\n",
    "w = [0.1, 0.2, 0.3, 0.4, 0.5, 0.6, 0.7, 0.8, -0.1, -0.2, -0.3, -0.4, 0.0]\n",
    "w = np.array(w).reshape([13, 1])\n",
    "x1=x[0]\n",
    "t = np.dot(x1, w)\n",
    "print(t)\n",
    "b = -0.2\n",
    "z = t + b\n",
    "print(z)"
   ]
  },
  {
   "cell_type": "code",
   "execution_count": 43,
   "metadata": {},
   "outputs": [],
   "source": [
    "#封装前向计算,损失计算\n",
    "class Network(object):\n",
    "    def __init__(self, num_of_weights):\n",
    "        # 随机产生w的初始值\n",
    "        # 为了保持程序每次运行结果的一致性，\n",
    "        # 此处设置固定的随机数种子\n",
    "        np.random.seed(0)\n",
    "        self.w = np.random.randn(num_of_weights, 1)\n",
    "        self.b = 0.\n",
    "        \n",
    "    def forward(self, x):\n",
    "        z = np.dot(x, self.w) + self.b\n",
    "        return z\n",
    "    \n",
    "    def loss(self, z, y):\n",
    "        error = z - y\n",
    "        cost = error * error\n",
    "        cost = np.mean(cost)\n",
    "        return cost\n"
   ]
  },
  {
   "cell_type": "code",
   "execution_count": null,
   "metadata": {},
   "outputs": [],
   "source": []
  }
 ],
 "metadata": {
  "kernelspec": {
   "display_name": "Python 3",
   "language": "python",
   "name": "python3"
  },
  "language_info": {
   "codemirror_mode": {
    "name": "ipython",
    "version": 3
   },
   "file_extension": ".py",
   "mimetype": "text/x-python",
   "name": "python",
   "nbconvert_exporter": "python",
   "pygments_lexer": "ipython3",
   "version": "3.7.4"
  }
 },
 "nbformat": 4,
 "nbformat_minor": 2
}
